{
 "cells": [
  {
   "cell_type": "code",
   "execution_count": 24,
   "id": "79b20af4",
   "metadata": {},
   "outputs": [],
   "source": [
    "import os\n",
    "import csv"
   ]
  },
  {
   "cell_type": "code",
   "execution_count": 25,
   "id": "a8c450e5",
   "metadata": {},
   "outputs": [
    {
     "name": "stdout",
     "output_type": "stream",
     "text": [
      "Resources/budget_data.csv\n"
     ]
    }
   ],
   "source": [
    "csvpath = os.path.join(\"Resources\", \"budget_data.csv\")\n",
    "print(csvpath)"
   ]
  },
  {
   "cell_type": "code",
   "execution_count": 26,
   "id": "67f6fce8",
   "metadata": {},
   "outputs": [
    {
     "name": "stdout",
     "output_type": "stream",
     "text": [
      "<_csv.reader object at 0x1121ec2e0>\n",
      "CSV Header: ['Date', 'Profit/Losses']\n",
      "1088983 Jan-10\n",
      "-354534 Feb-10\n",
      "276622 Mar-10\n",
      "-728133 Apr-10\n",
      "852993 May-10\n",
      "563721 Jun-10\n",
      "-535208 Jul-10\n",
      "632349 Aug-10\n",
      "-173744 Sep-10\n",
      "950741 Oct-10\n",
      "-785750 Nov-10\n",
      "-1194133 Dec-10\n",
      "-589576 Jan-11\n",
      "-883921 Feb-11\n",
      "443564 Mar-11\n",
      "837887 Apr-11\n",
      "1081472 May-11\n",
      "464033 Jun-11\n",
      "-1066544 Jul-11\n",
      "323846 Aug-11\n",
      "-806551 Sep-11\n",
      "487053 Oct-11\n",
      "1128811 Nov-11\n",
      "791398 Dec-11\n",
      "739367 Jan-12\n",
      "-197825 Feb-12\n",
      "666016 Mar-12\n",
      "589771 Apr-12\n",
      "489290 May-12\n",
      "-471439 Jun-12\n",
      "120417 Jul-12\n",
      "175347 Aug-12\n",
      "855449 Sep-12\n",
      "605195 Oct-12\n",
      "-235220 Nov-12\n",
      "347138 Dec-12\n",
      "298510 Jan-13\n",
      "163254 Feb-13\n",
      "1141840 Mar-13\n",
      "542630 Apr-13\n",
      "99841 May-13\n",
      "752765 Jun-13\n",
      "-252949 Jul-13\n",
      "914424 Aug-13\n",
      "679524 Sep-13\n",
      "514377 Oct-13\n",
      "462102 Nov-13\n",
      "159782 Dec-13\n",
      "878810 Jan-14\n",
      "-946748 Feb-14\n",
      "340335 Mar-14\n",
      "292032 Apr-14\n",
      "502266 May-14\n",
      "265852 Jun-14\n",
      "851017 Jul-14\n",
      "-549615 Aug-14\n",
      "290162 Sep-14\n",
      "755391 Oct-14\n",
      "1073202 Nov-14\n",
      "313000 Dec-14\n",
      "241132 Jan-15\n",
      "1036589 Feb-15\n",
      "853904 Mar-15\n",
      "-388932 Apr-15\n",
      "982952 May-15\n",
      "537759 Jun-15\n",
      "547784 Jul-15\n",
      "-496214 Aug-15\n",
      "854181 Sep-15\n",
      "934719 Oct-15\n",
      "-288531 Nov-15\n",
      "-184383 Dec-15\n",
      "659541 Jan-16\n",
      "-1149123 Feb-16\n",
      "355882 Mar-16\n",
      "662284 Apr-16\n",
      "518681 May-16\n",
      "-748256 Jun-16\n",
      "-910775 Jul-16\n",
      "951227 Aug-16\n",
      "898241 Sep-16\n",
      "-729004 Oct-16\n",
      "-112209 Nov-16\n",
      "516313 Dec-16\n",
      "607208 Jan-17\n",
      "382539 Feb-17\n"
     ]
    }
   ],
   "source": [
    "with open(csvpath) as csvfile:\n",
    "\n",
    "    # CSV reader specifies delimiter and variable that holds contents\n",
    "    csvreader = csv.reader(csvfile, delimiter=',')\n",
    "\n",
    "    print(csvreader)\n",
    "\n",
    "    # Read the header row first (skip this step if there is no header)\n",
    "    csv_header = next(csvreader)\n",
    "    print(f\"CSV Header: {csv_header}\")\n",
    "    # print(\"CSV Header: \" + str(csv_header))\n",
    "\n",
    "    # Read each row of data after the header\n",
    "\n",
    "    for row in csvreader:\n",
    "        print(row[1], row[0])\n",
    "\n"
   ]
  },
  {
   "cell_type": "code",
   "execution_count": 27,
   "id": "5ff9ce26",
   "metadata": {},
   "outputs": [
    {
     "name": "stdout",
     "output_type": "stream",
     "text": [
      "86\n"
     ]
    }
   ],
   "source": [
    "with open(csvpath) as csvfile:\n",
    "\n",
    "    # CSV reader specifies delimiter and variable that holds contents\n",
    "    csvreader = csv.reader(csvfile, delimiter=',')\n",
    "\n",
    "    row_count = 0\n",
    "\n",
    "    for row in csvreader:\n",
    "        row_count += 1\n",
    "    \n",
    "\n",
    "total_months = row_count - 1\n",
    "print(total_months)"
   ]
  },
  {
   "cell_type": "code",
   "execution_count": 32,
   "id": "b452ec2b",
   "metadata": {},
   "outputs": [
    {
     "name": "stdout",
     "output_type": "stream",
     "text": [
      "22564198\n"
     ]
    }
   ],
   "source": [
    "with open(csvpath) as csvfile:\n",
    "\n",
    "    # CSV reader specifies delimiter and variable that holds contents\n",
    "    csvreader = csv.reader(csvfile, delimiter=',')\n",
    "    \n",
    "    #skip header row\n",
    "    next(csvreader)\n",
    "    \n",
    "    pybank_total = 0\n",
    "    \n",
    "\n",
    "    #Iterate through csv and add each month's profit/loss to the total\n",
    "    \n",
    "    for row in csvreader:\n",
    "        profit_loss = int(row[1])\n",
    "        \n",
    "        pybank_total += profit_loss\n",
    "\n",
    "print(pybank_total)"
   ]
  },
  {
   "cell_type": "code",
   "execution_count": 39,
   "id": "be161b95",
   "metadata": {},
   "outputs": [
    {
     "name": "stdout",
     "output_type": "stream",
     "text": [
      "-8311.105882352942\n",
      "1862002\n",
      "-1825558\n"
     ]
    }
   ],
   "source": [
    "with open(csvpath) as csvfile:\n",
    "\n",
    "    # CSV reader specifies delimiter and variable that holds contents\n",
    "    csvreader = csv.reader(csvfile, delimiter=',')\n",
    "    \n",
    "\n",
    "    next(csvreader)\n",
    "    \n",
    "    prev_p_l = None\n",
    "    total_change = 0\n",
    "    num_changes = 0\n",
    "    \n",
    "    list_changes = []\n",
    "    \n",
    "\n",
    "    #Iterate through csv and find the months with greatest increase and decrease\n",
    "    for row in csvreader:\n",
    "        current_p_l = int(row[1])\n",
    "        \n",
    "        if prev_p_l is not None:\n",
    "            change = current_p_l - prev_p_l\n",
    "            total_change += change\n",
    "            num_changes += 1\n",
    "            list_changes.append(change)\n",
    "            \n",
    "        prev_p_l = current_p_l\n",
    "    \n",
    "    average_change = total_change / num_changes\n",
    "\n",
    "    greatest_increase = max(list_changes)\n",
    "    greatest_decrease = min(list_changes)\n",
    "\n",
    "print(average_change)\n",
    "print(greatest_increase)\n",
    "print(greatest_decrease)"
   ]
  },
  {
   "cell_type": "code",
   "execution_count": 48,
   "id": "588c4579",
   "metadata": {},
   "outputs": [
    {
     "name": "stdout",
     "output_type": "stream",
     "text": [
      "Financial Analysis\n",
      "----------------\n",
      "Total Months: 86\n",
      "Total: $22564198\n",
      "Average Change: $-8311.11\n",
      "Greatest Increase in Profits: ($1862002)\n",
      "Greatest Decrease in Profits: ($-1825558)\n"
     ]
    }
   ],
   "source": [
    "print(\"Financial Analysis\")\n",
    "\n",
    "print(\"----------------\")\n",
    "\n",
    "print(f'Total Months: {total_months}')\n",
    "print(f'Total: ${pybank_total}')\n",
    "print(f'Average Change: ${round(average_change,2)}')\n",
    "print(f'Greatest Increase in Profits: (${greatest_increase})')\n",
    "print(f'Greatest Decrease in Profits: (${greatest_decrease})')"
   ]
  },
  {
   "cell_type": "code",
   "execution_count": null,
   "id": "59d970f4",
   "metadata": {},
   "outputs": [],
   "source": []
  }
 ],
 "metadata": {
  "kernelspec": {
   "display_name": "Python 3 (ipykernel)",
   "language": "python",
   "name": "python3"
  },
  "language_info": {
   "codemirror_mode": {
    "name": "ipython",
    "version": 3
   },
   "file_extension": ".py",
   "mimetype": "text/x-python",
   "name": "python",
   "nbconvert_exporter": "python",
   "pygments_lexer": "ipython3",
   "version": "3.11.4"
  }
 },
 "nbformat": 4,
 "nbformat_minor": 5
}
